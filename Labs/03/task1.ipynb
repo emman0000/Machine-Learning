{
  "nbformat": 4,
  "nbformat_minor": 0,
  "metadata": {
    "colab": {
      "provenance": []
    },
    "kernelspec": {
      "name": "python3",
      "display_name": "Python 3"
    },
    "language_info": {
      "name": "python"
    }
  },
  "cells": [
    {
      "cell_type": "code",
      "execution_count": 1,
      "metadata": {
        "id": "MyZnUbpm5t_U"
      },
      "outputs": [],
      "source": [
        "import pandas as pd\n",
        "from sklearn.neighbors import KNeighborsClassifier\n",
        "from sklearn.metrics import accuracy_score"
      ]
    },
    {
      "cell_type": "code",
      "source": [
        "# ---- Load datasets ----\n",
        "train = pd.read_csv(\"occupancy_train.txt\")\n",
        "test = pd.read_csv(\"occupancy_test.txt\")"
      ],
      "metadata": {
        "id": "8pT-MB226TP6"
      },
      "execution_count": 14,
      "outputs": []
    },
    {
      "cell_type": "code",
      "source": [
        "features = [\"Humidity\", \"Light\", \"HumidityRatio\"]\n",
        "target = \"Occupancy\"\n",
        "\n",
        "X_train = train[features]\n",
        "y_train = train[target]\n",
        "\n",
        "X_test = test[features]\n",
        "y_test = test[target]"
      ],
      "metadata": {
        "id": "iHrgg_O8-b50"
      },
      "execution_count": 21,
      "outputs": []
    },
    {
      "cell_type": "code",
      "source": [
        "accuracies = []\n",
        "for k in range(1, 11):\n",
        "    knn = KNeighborsClassifier(n_neighbors=k)\n",
        "    knn.fit(X_train, y_train)\n",
        "    y_pred = knn.predict(X_test)"
      ],
      "metadata": {
        "id": "EFEEJ8UF-xp3"
      },
      "execution_count": 22,
      "outputs": []
    },
    {
      "cell_type": "code",
      "source": [
        "# Compute accuracy\n",
        "    correct = sum(y_pred[i] == y_test.iloc[i] for i in range(len(y_test)))\n",
        "    acc = correct / len(y_test)\n",
        "    accuracies.append(acc)"
      ],
      "metadata": {
        "id": "_BGe-P_f_SU_"
      },
      "execution_count": 23,
      "outputs": []
    },
    {
      "cell_type": "code",
      "source": [
        " print(f\"Accuracy for K={k}: {acc*100:.2f}%\")"
      ],
      "metadata": {
        "colab": {
          "base_uri": "https://localhost:8080/"
        },
        "id": "3mMYnyUP_V-J",
        "outputId": "7d1a58de-c033-4301-e2ef-6978dccf3da3"
      },
      "execution_count": 24,
      "outputs": [
        {
          "output_type": "stream",
          "name": "stdout",
          "text": [
            "Accuracy for K=10: 96.47%\n"
          ]
        }
      ]
    },
    {
      "cell_type": "code",
      "source": [
        "# ---- Find the highest accuracy and corresponding K ----\n",
        "max_acc = max(accuracies)\n",
        "best_k = accuracies.index(max_acc) + 1\n",
        "print(f\"\\nHighest Accuracy: {max_acc*100:.2f}% at K={best_k}\")"
      ],
      "metadata": {
        "colab": {
          "base_uri": "https://localhost:8080/"
        },
        "id": "-OVcZo-K_aqR",
        "outputId": "4829adfe-2635-45b8-9700-b56208c51a18"
      },
      "execution_count": 25,
      "outputs": [
        {
          "output_type": "stream",
          "name": "stdout",
          "text": [
            "\n",
            "Highest Accuracy: 96.47% at K=1\n"
          ]
        }
      ]
    }
  ]
}