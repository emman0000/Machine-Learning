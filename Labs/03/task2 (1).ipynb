{
  "nbformat": 4,
  "nbformat_minor": 0,
  "metadata": {
    "colab": {
      "provenance": []
    },
    "kernelspec": {
      "name": "python3",
      "display_name": "Python 3"
    },
    "language_info": {
      "name": "python"
    }
  },
  "cells": [
    {
      "cell_type": "code",
      "execution_count": 1,
      "metadata": {
        "id": "P6OtRDyr_hBe"
      },
      "outputs": [],
      "source": [
        "import numpy as np\n",
        "from sklearn.datasets import load_iris\n",
        "from sklearn.model_selection import train_test_split\n",
        "from sklearn.metrics import confusion_matrix, accuracy_score"
      ]
    },
    {
      "cell_type": "code",
      "source": [
        "# Chi-squared distance function\n",
        "def chi2_distance(x1, x2):\n",
        "    return np.sum((x1 - x2) ** 2 / (x1 + x2 + 1e-10))  # small epsilon to avoid division by zero"
      ],
      "metadata": {
        "id": "xN1nG3NYN8rf"
      },
      "execution_count": 2,
      "outputs": []
    },
    {
      "cell_type": "code",
      "source": [
        "# KNN from scratch\n",
        "class KNN_Scratch:\n",
        "    def __init__(self, k=3):\n",
        "        self.k = k\n",
        "\n",
        "    def fit(self, X, y):\n",
        "        self.X_train = X\n",
        "        self.y_train = y\n",
        "\n",
        "    def predict(self, X):\n",
        "        predictions = []\n",
        "        for x in X:\n",
        "            distances = [chi2_distance(x, x_train) for x_train in self.X_train]\n",
        "            k_indices = np.argsort(distances)[:self.k]\n",
        "            k_labels = self.y_train[k_indices]\n",
        "            predictions.append(np.bincount(k_labels).argmax())\n",
        "        return np.array(predictions)\n"
      ],
      "metadata": {
        "id": "V4RHInbyOAjV"
      },
      "execution_count": 3,
      "outputs": []
    },
    {
      "cell_type": "code",
      "source": [
        "# Load dataset\n",
        "iris = load_iris()\n",
        "X, y = iris.data, iris.target\n",
        "X_train, X_test, y_train, y_test = train_test_split(X, y, test_size=0.2, random_state=0)\n"
      ],
      "metadata": {
        "id": "t5Ee1GSHOFGm"
      },
      "execution_count": 4,
      "outputs": []
    },
    {
      "cell_type": "code",
      "source": [
        "# Train & evaluate\n",
        "knn = KNN_Scratch(k=3)\n",
        "knn.fit(X_train, y_train)\n",
        "y_pred = knn.predict(X_test)"
      ],
      "metadata": {
        "id": "enQk-TlMOOJ1"
      },
      "execution_count": 5,
      "outputs": []
    },
    {
      "cell_type": "code",
      "source": [
        "print(\"Accuracy:\", accuracy_score(y_test, y_pred))\n",
        "print(\"Confusion Matrix:\\n\", confusion_matrix(y_test, y_pred))"
      ],
      "metadata": {
        "colab": {
          "base_uri": "https://localhost:8080/"
        },
        "id": "IM1fH5IWOQdx",
        "outputId": "63173b69-b876-4ca1-d259-c319419af0ce"
      },
      "execution_count": 6,
      "outputs": [
        {
          "output_type": "stream",
          "name": "stdout",
          "text": [
            "Accuracy: 0.9666666666666667\n",
            "Confusion Matrix:\n",
            " [[11  0  0]\n",
            " [ 0 13  0]\n",
            " [ 0  1  5]]\n"
          ]
        }
      ]
    }
  ]
}